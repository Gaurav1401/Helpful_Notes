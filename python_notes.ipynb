{
 "cells": [
  {
   "cell_type": "markdown",
   "metadata": {},
   "source": [
    "# Datatypes\n",
    "     None Type          an object that doesn't contain any value\n",
    "     Numeric Type       int, float, complex\n",
    "     Sequences          str, bytes, bytearray, list, tuple, range  \n",
    "     Sets               \n",
    "     Mappings"
   ]
  },
  {
   "cell_type": "markdown",
   "metadata": {},
   "source": [
    "### Assigning Numeric Variables"
   ]
  },
  {
   "cell_type": "code",
   "execution_count": 50,
   "metadata": {},
   "outputs": [
    {
     "name": "stdout",
     "output_type": "stream",
     "text": [
      "13 108 -66\n",
      "<class 'int'>\n"
     ]
    }
   ],
   "source": [
    "a=13\n",
    "b=108\n",
    "c= -66\n",
    "print(a,b,c)\n",
    "print(type(a)) # to check datatype"
   ]
  },
  {
   "cell_type": "code",
   "execution_count": 51,
   "metadata": {},
   "outputs": [
    {
     "name": "stdout",
     "output_type": "stream",
     "text": [
      "2.5 35.8 250.0\n",
      "<class 'float'>\n"
     ]
    }
   ],
   "source": [
    "a= 2.5\n",
    "b= 35.8\n",
    "c= 250.0\n",
    "print(a,b,c)\n",
    "print(type(c)) # to check datatype "
   ]
  },
  {
   "cell_type": "markdown",
   "metadata": {},
   "source": [
    "### Assigning Binary,Complex,Hexadecimal and Octal"
   ]
  },
  {
   "cell_type": "markdown",
   "metadata": {},
   "source": [
    "#### Complex"
   ]
  },
  {
   "cell_type": "code",
   "execution_count": 52,
   "metadata": {},
   "outputs": [
    {
     "name": "stdout",
     "output_type": "stream",
     "text": [
      "(2+3j)\n",
      "<class 'complex'>\n"
     ]
    }
   ],
   "source": [
    "x= 2+3j  # will always be j \n",
    "print(x) \n",
    "print(type(x))"
   ]
  },
  {
   "cell_type": "markdown",
   "metadata": {},
   "source": [
    "#### Binary, Hexa, Octa"
   ]
  },
  {
   "cell_type": "code",
   "execution_count": 53,
   "metadata": {},
   "outputs": [
    {
     "name": "stdout",
     "output_type": "stream",
     "text": [
      "10\n",
      "<class 'int'>\n",
      "255\n",
      "<class 'int'>\n",
      "2423\n",
      "<class 'int'>\n"
     ]
    }
   ],
   "source": [
    "a= 0B1010\n",
    "print(a) #Will Print in Decimal/int type\n",
    "print(type(a))\n",
    "\n",
    "b=0XFF\n",
    "print(b) #Will Print in Decimal/int type\n",
    "print(type(b))\n",
    "\n",
    "c=0O4567 \n",
    "print(c)  #Will Print in Decimal/int type\n",
    "print(type(c))"
   ]
  },
  {
   "cell_type": "markdown",
   "metadata": {},
   "source": [
    "### Boolean"
   ]
  },
  {
   "cell_type": "code",
   "execution_count": 54,
   "metadata": {},
   "outputs": [
    {
     "name": "stdout",
     "output_type": "stream",
     "text": [
      "True\n",
      "<class 'bool'>\n",
      "True\n"
     ]
    }
   ],
   "source": [
    "g= True\n",
    "print(g)\n",
    "print(type(g))\n",
    "print(5>4) # This is how we use bool"
   ]
  },
  {
   "cell_type": "markdown",
   "metadata": {},
   "source": [
    "### DataType Conversion\n",
    "    Converting one variable type to another"
   ]
  },
  {
   "cell_type": "code",
   "execution_count": 55,
   "metadata": {},
   "outputs": [
    {
     "name": "stdout",
     "output_type": "stream",
     "text": [
      "15.0 2 0b1111 0xf 0o17\n"
     ]
    }
   ],
   "source": [
    "a=15\n",
    "b=float(a)\n",
    "\n",
    "c=2.6\n",
    "d=int(c)\n",
    "\n",
    "e=bin(a)\n",
    "f=hex(a)\n",
    "g=oct(a)\n",
    "\n",
    "print(b,d,e,f,g)"
   ]
  },
  {
   "cell_type": "markdown",
   "metadata": {},
   "source": [
    "# Sequences/Collections\n",
    "    list, tuple, String, Set, Dictionary, bytearray, bytes"
   ]
  },
  {
   "cell_type": "markdown",
   "metadata": {},
   "source": [
    "### String"
   ]
  },
  {
   "cell_type": "code",
   "execution_count": 56,
   "metadata": {},
   "outputs": [
    {
     "name": "stdout",
     "output_type": "stream",
     "text": [
      "You are the bestYou are the bestYou are the best\n",
      "o\n",
      "40\n",
      "\n",
      "\n",
      "\n",
      "You a\n",
      " bes\n",
      "You are th\n",
      "are the best\n",
      "\n",
      "\n",
      "\n",
      "Yuaetebs\n",
      "\n",
      "\n",
      "\n",
      "  hello i am a robot  \n",
      "hello i am a robot\n",
      "hello i am a robot  \n",
      "  hello i am a robot\n",
      "\n",
      "\n",
      "\n",
      "4\n",
      "2\n",
      "YOU ARE THE BEST\n",
      "you are the best\n",
      "You Are The Best\n"
     ]
    }
   ],
   "source": [
    "s= 'You are the best'\n",
    "a= \"\"\" God is \n",
    "    one who\n",
    "    made this world\"\"\"\n",
    "print(s*3)\n",
    "print(s[1]) # Indexing to get particular part of a string\n",
    "print(len(a)) # to calculate length of string: counts \" \" also\n",
    "print(\"\\n\\n\")\n",
    "\n",
    "#Slicing\n",
    "print(s[0:5])\n",
    "print(s[-5:-1])\n",
    "print(s[:10])\n",
    "print(s[4:])\n",
    "print(\"\\n\\n\")\n",
    "\n",
    "# Steps in Slicing\n",
    "print(s[0:15:2]) #every second number from 0th element\n",
    "print(\"\\n\\n\")\n",
    "\n",
    "# Strip the spaces\n",
    "b= \"  hello i am a robot  \"\n",
    "print(b)\n",
    "print(b.strip()) # Removing both left and right spaces\n",
    "print(b.lstrip()) # Removing only left space\n",
    "print(b.rstrip()) # Removing only right space\n",
    "print(\"\\n\\n\")\n",
    "# More string function\n",
    "print(s.find('are',0,10)) # s.find('word to find in string',from where to start, from where to end)\n",
    "print(s.count('t')) # to count the 'substring' in the string\n",
    "print(s.upper())\n",
    "print(s.lower())\n",
    "print(s.title())"
   ]
  },
  {
   "cell_type": "code",
   "execution_count": 1,
   "metadata": {},
   "outputs": [
    {
     "data": {
      "text/plain": [
       "['abcd']"
      ]
     },
     "execution_count": 1,
     "metadata": {},
     "output_type": "execute_result"
    }
   ],
   "source": [
    "from difflib import get_close_matches # it provides the words of the closest match to a string from a list\n",
    "get_close_matches('abc',['abcd','xyz','cdf'])"
   ]
  },
  {
   "cell_type": "code",
   "execution_count": 3,
   "metadata": {},
   "outputs": [
    {
     "data": {
      "text/plain": [
       "['abcd']"
      ]
     },
     "execution_count": 3,
     "metadata": {},
     "output_type": "execute_result"
    }
   ],
   "source": [
    "get_close_matches('abc',['abcd','abcde','zab'],cutoff=0.8) #cutoff is the proportion/accuracy value to match the word\n",
    "# it will show the word which matches 80% to the string"
   ]
  },
  {
   "cell_type": "code",
   "execution_count": 4,
   "metadata": {},
   "outputs": [
    {
     "data": {
      "text/plain": [
       "['abcd', 'abcde', 'zab']"
      ]
     },
     "execution_count": 4,
     "metadata": {},
     "output_type": "execute_result"
    }
   ],
   "source": [
    "get_close_matches('abc',['abcd','abcde','zab'])\n",
    "# the point is that the first string in the list will always be the closest value"
   ]
  },
  {
   "cell_type": "markdown",
   "metadata": {},
   "source": [
    "### List"
   ]
  },
  {
   "cell_type": "code",
   "execution_count": 57,
   "metadata": {},
   "outputs": [
    {
     "ename": "NameError",
     "evalue": "name 'lst1' is not defined",
     "output_type": "error",
     "traceback": [
      "\u001b[1;31m---------------------------------------------------------------------------\u001b[0m",
      "\u001b[1;31mNameError\u001b[0m                                 Traceback (most recent call last)",
      "\u001b[1;32m<ipython-input-57-60128fcc84c7>\u001b[0m in \u001b[0;36m<module>\u001b[1;34m\u001b[0m\n\u001b[0;32m      1\u001b[0m \u001b[0mlst_1\u001b[0m\u001b[1;33m=\u001b[0m\u001b[1;33m[\u001b[0m\u001b[1;33m]\u001b[0m \u001b[1;31m# empty list\u001b[0m\u001b[1;33m\u001b[0m\u001b[1;33m\u001b[0m\u001b[0m\n\u001b[1;32m----> 2\u001b[1;33m \u001b[0mprint\u001b[0m\u001b[1;33m(\u001b[0m\u001b[0mlst1\u001b[0m\u001b[1;33m)\u001b[0m\u001b[1;33m\u001b[0m\u001b[1;33m\u001b[0m\u001b[0m\n\u001b[0m\u001b[0;32m      3\u001b[0m \u001b[0mlst\u001b[0m\u001b[1;33m=\u001b[0m\u001b[1;33m[\u001b[0m\u001b[1;36m1\u001b[0m\u001b[1;33m,\u001b[0m\u001b[1;36m2\u001b[0m\u001b[1;33m,\u001b[0m\u001b[1;36m3.5\u001b[0m\u001b[1;33m,\u001b[0m\u001b[1;34m'Gaurav'\u001b[0m\u001b[1;33m,\u001b[0m\u001b[1;36m4.3\u001b[0m\u001b[1;33m]\u001b[0m\u001b[1;33m\u001b[0m\u001b[1;33m\u001b[0m\u001b[0m\n\u001b[0;32m      4\u001b[0m \u001b[0mprint\u001b[0m\u001b[1;33m(\u001b[0m\u001b[1;34m\"Original List:\"\u001b[0m\u001b[1;33m,\u001b[0m\u001b[0mlst\u001b[0m\u001b[1;33m)\u001b[0m\u001b[1;33m\u001b[0m\u001b[1;33m\u001b[0m\u001b[0m\n\u001b[0;32m      5\u001b[0m \u001b[0mprint\u001b[0m\u001b[1;33m(\u001b[0m\u001b[0mlst\u001b[0m\u001b[1;33m[\u001b[0m\u001b[1;36m2\u001b[0m\u001b[1;33m]\u001b[0m\u001b[1;33m)\u001b[0m \u001b[1;31m#Indexing\u001b[0m\u001b[1;33m\u001b[0m\u001b[1;33m\u001b[0m\u001b[0m\n",
      "\u001b[1;31mNameError\u001b[0m: name 'lst1' is not defined"
     ]
    }
   ],
   "source": [
    "lst_1=[] # empty list\n",
    "print(lst1)\n",
    "lst=[1,2,3.5,'Gaurav',4.3]\n",
    "print(\"Original List:\",lst)\n",
    "print(lst[2]) #Indexing\n",
    "print(lst[1:4]) #Slicing\n",
    "print(\"\\n\\n\")\n",
    "\n",
    "# Adding and Removing elements\n",
    "lst_1.append('Gaurav')\n",
    "print(lst_1)\n",
    "lst_1.remove('Gaurav') # Removing an element by its name\n",
    "print(lst_1)\n",
    "del(lst[1]) # Removing an element by its index\n",
    "print(lst)\n",
    "print(\"\\n\\n\")\n",
    "\n",
    "a=[1,2,3,4,5,6]\n",
    "# More functions on list\n",
    "print(max(a))\n",
    "print(min(a))\n",
    "a.insert(4,67) # lst.insert(index,value)\n",
    "print(a)\n",
    "a.sort() #in ascending order\n",
    "print(a)\n",
    "a.sort(reverse=True)\n",
    "print(a)"
   ]
  },
  {
   "cell_type": "markdown",
   "metadata": {},
   "source": [
    "### Tuple\n",
    "    Lists which can't be modified ,i.e, no insertion, no deletion, no slicing\n",
    "    indicated by ()"
   ]
  },
  {
   "cell_type": "code",
   "execution_count": null,
   "metadata": {},
   "outputs": [],
   "source": [
    "empty=()\n",
    "tpl=(1,2,3,4,5,6,2,'gaurav')\n",
    "tpl_1=(40,) # tuple of single element\n",
    "print(tpl)\n",
    "print(type(tpl_1))\n",
    "print(tpl.count(2))\n",
    "print(tpl*3)  #Repetition\n",
    "print(tpl.index(\"gaurav\")) #finding element index\n",
    "\n",
    "a=[1,2,3,\"hello\",4.5]\n",
    "b=tuple(a)\n",
    "print(type(a))\n",
    "print(type(b))"
   ]
  },
  {
   "cell_type": "markdown",
   "metadata": {},
   "source": [
    "## Set\n",
    "    Doesn't allow repetition,Slicing,Indexing as it doesn't have elements arranged in order\n",
    "    Defined in {}    "
   ]
  },
  {
   "cell_type": "code",
   "execution_count": null,
   "metadata": {},
   "outputs": [],
   "source": [
    "s={1,2,3,\"hello\",5.5,1,2}\n",
    "print(s) #As could be seen, duplicate elements are not allowed\n",
    "s.update([44,55,66])\n",
    "print(s)\n",
    "s.remove(3)\n",
    "print(s)\n",
    "# Frozen set, no deletion and insertion can occur\n",
    "f=frozenset(s)\n",
    "'''\n",
    "f.update(['gaurav']) \n",
    "f.remove(66) Shows error in both cases\n",
    "'''\n"
   ]
  },
  {
   "cell_type": "markdown",
   "metadata": {},
   "source": [
    "## Range\n",
    "    "
   ]
  },
  {
   "cell_type": "code",
   "execution_count": null,
   "metadata": {},
   "outputs": [],
   "source": [
    "r=range(5)\n",
    "for i in r:\n",
    "    print(i) # 4 spaces before are indentation,leave them as it is\n",
    "    \n",
    "j=range(1,15,2)\n",
    "print('range(start,stop(excluded),step)')\n",
    "for h in j:\n",
    "    print(h)"
   ]
  },
  {
   "cell_type": "markdown",
   "metadata": {},
   "source": [
    "## Bytes and bytearray\n",
    "    bytes:- No modification can be done, value can't be more than 255\n",
    "    both accept only integer values and no indexing and slicing can be done."
   ]
  },
  {
   "cell_type": "code",
   "execution_count": null,
   "metadata": {},
   "outputs": [],
   "source": [
    "lst= [1,2,3,244]\n",
    "print(type(lst))\n",
    "b=bytes(lst) # to specify a byte maximum in a list should be 255 & can't take string and float\n",
    "print(type(b))\n",
    "\n",
    "c=bytearray(lst)\n",
    "c[2]=33\n",
    "for i in c:\n",
    "    print(i)"
   ]
  },
  {
   "cell_type": "markdown",
   "metadata": {},
   "source": [
    "## Dictionary\n",
    "    {\n",
    "        key:value\n",
    "        }"
   ]
  },
  {
   "cell_type": "code",
   "execution_count": null,
   "metadata": {},
   "outputs": [],
   "source": [
    "dict={1:\"john\",2:\"hello\",3:\"cute\"}\n",
    "print(dict)\n",
    "print(\"\\n\")\n",
    "for i in dict.values():\n",
    "    print(i)\n",
    "print(\"\\n\")\n",
    "for j in dict.keys():\n",
    "    print(j)\n",
    "print(\"\\n\")    \n",
    "# INSERTION\n",
    "dict[4]=\"hi!!\"\n",
    "print(dict)\n",
    "print(\"\\n\")\n",
    "# INDEXING\n",
    "print(dict[2])\n",
    "print(\"\\n\")\n",
    "# DELETION\n",
    "del dict[4]\n",
    "print(dict)"
   ]
  },
  {
   "cell_type": "markdown",
   "metadata": {},
   "source": [
    "# Operators and Operands"
   ]
  },
  {
   "cell_type": "markdown",
   "metadata": {},
   "source": [
    "### Arthemetic Operators\n",
    "    + :- Addition\n",
    "    - :- Subtraction\n",
    "    * :- Multiplication\n",
    "    / :- Division\n",
    "    //:- Integer Division  Returns integer quotient\n",
    "    **:- Exponent "
   ]
  },
  {
   "cell_type": "code",
   "execution_count": null,
   "metadata": {},
   "outputs": [],
   "source": [
    "a=10\n",
    "b=5\n",
    "print(\"Addition\",a+b)\n",
    "print(\"Subtraction\",a-b)\n",
    "print(\"Multiplication\",a*b)\n",
    "print(\"Division\",a/b)\n",
    "print(\"Integer division\",a//b)\n",
    "print(\"Exponent\",a**b)"
   ]
  },
  {
   "cell_type": "markdown",
   "metadata": {},
   "source": [
    "### Assignment Operator\n",
    "    = :- Assigns values\n",
    "    Compound Operators\n",
    "    +=\n",
    "    -=\n",
    "    *=\n",
    "    /=\n",
    "    //=\n",
    "    **=\n",
    "    %="
   ]
  },
  {
   "cell_type": "code",
   "execution_count": null,
   "metadata": {},
   "outputs": [],
   "source": [
    "a,b=10,5\n",
    "a+=b\n",
    "print(a)\n",
    "a**=b\n",
    "print(a)"
   ]
  },
  {
   "cell_type": "markdown",
   "metadata": {},
   "source": [
    "### Comparison Operators\n",
    "    ==\n",
    "    <\n",
    "    >\n",
    "    <=\n",
    "    >=\n",
    "   Returns a Boolean Value"
   ]
  },
  {
   "cell_type": "code",
   "execution_count": null,
   "metadata": {},
   "outputs": [],
   "source": [
    "#Example\n",
    "print(3>4)\n",
    "print(4<=4)"
   ]
  },
  {
   "cell_type": "markdown",
   "metadata": {},
   "source": [
    "### Logical Operators\n",
    "    and, or, not\n",
    "    X and Y\n",
    "    X or Y\n",
    "    not X\n",
    "    X,Y are either Boolean values or expressions which return boolean values"
   ]
  },
  {
   "cell_type": "code",
   "execution_count": null,
   "metadata": {},
   "outputs": [],
   "source": [
    "print((3>2 and 5<8))\n",
    "print(not(3>2 and 5<8))"
   ]
  },
  {
   "cell_type": "markdown",
   "metadata": {},
   "source": [
    "# Input and Output functons\n",
    "    input() function for input\n",
    "    print() function for output"
   ]
  },
  {
   "cell_type": "markdown",
   "metadata": {},
   "source": [
    "### print()"
   ]
  },
  {
   "cell_type": "code",
   "execution_count": null,
   "metadata": {},
   "outputs": [],
   "source": [
    "print() #nothing will show\n",
    "print(\"hello me\")\n",
    "print(\"hello this is \\n gaurav\") #newlline character\n",
    "a,b=3,4\n",
    "print(a,b,sep=\",,\")# sep:- separates a and b\n",
    "\n",
    "# String Formatting\n",
    "name=\"Gaurav\"\n",
    "marks= 94.5678\n",
    "print(\"Name is\",name,\"marks are\",marks)\n",
    "print(\"Name is %s marks are %.3f\"%(name,marks)) # %s:-string, %f:- float, %i:- integer\n",
    "print(\"Name is {} marks are {}\".format(name,marks))\n",
    "print(\"Name is {0} marks are {1}\".format(name,marks))"
   ]
  },
  {
   "cell_type": "markdown",
   "metadata": {},
   "source": [
    "### input()"
   ]
  },
  {
   "cell_type": "code",
   "execution_count": null,
   "metadata": {},
   "outputs": [],
   "source": [
    "n=input(\"Enter a number: \")\n",
    "print(n,type(n))\n",
    "#typecasting\n",
    "s=int(input(\"Enter a number: \"))\n",
    "print(s,type(s))"
   ]
  },
  {
   "cell_type": "markdown",
   "metadata": {},
   "source": [
    "### Reading Multiple inputs"
   ]
  },
  {
   "cell_type": "code",
   "execution_count": null,
   "metadata": {},
   "outputs": [],
   "source": [
    "lst=[x for x in input(\"Enter numbers separated by comma\").split(\",\")] #By default split considers space\n",
    "print(lst)"
   ]
  },
  {
   "cell_type": "markdown",
   "metadata": {},
   "source": [
    "# Flow Control Statements\n",
    "    Conditional:- if, if..else, if..elif..else\n",
    "    Looping:- while,for\n",
    "    Transfer:- break, continue, pass, return"
   ]
  },
  {
   "cell_type": "markdown",
   "metadata": {},
   "source": [
    "### Conditional Statements"
   ]
  },
  {
   "cell_type": "code",
   "execution_count": 65,
   "metadata": {},
   "outputs": [
    {
     "name": "stdout",
     "output_type": "stream",
     "text": [
      "Enter the number: 5\n",
      "5 is odd\n"
     ]
    }
   ],
   "source": [
    "# Checking whether a number is odd or even\n",
    "n=int(input(\"Enter the number: \"))\n",
    "if n==0:\n",
    "    print(\"0 is neither odd nor even\")\n",
    "elif n%2==0:\n",
    "    print(n,\"is even\")\n",
    "else:\n",
    "    print(n,\"is odd\")"
   ]
  },
  {
   "cell_type": "markdown",
   "metadata": {},
   "source": [
    "### Looping Statements"
   ]
  },
  {
   "cell_type": "code",
   "execution_count": 69,
   "metadata": {},
   "outputs": [
    {
     "name": "stdout",
     "output_type": "stream",
     "text": [
      "Minimum number 1\n",
      "Maximum number 10\n",
      "1\n",
      "3\n",
      "5\n",
      "7\n",
      "9\n"
     ]
    }
   ],
   "source": [
    "# Using While loop find Odd numbers between two given numbers\n",
    "x=int(input(\"Minimum number \"))\n",
    "y=int(input(\"Maximum number \"))\n",
    "i=x\n",
    "if x%2 == 0: i=x+1\n",
    "while i<=y:\n",
    "    print(i)\n",
    "    i+=2"
   ]
  },
  {
   "cell_type": "code",
   "execution_count": 70,
   "metadata": {},
   "outputs": [
    {
     "name": "stdout",
     "output_type": "stream",
     "text": [
      "Product is: 720\n",
      "[50, 51, 52, 53, 54, 55, 56, 57, 58, 59, 60, 61, 62, 63, 64, 65, 66, 67, 68, 69, 70]\n"
     ]
    }
   ],
   "source": [
    "# Using For loop find product for number in a list\n",
    "list=[1,2,3,4,5,6]\n",
    "prod=1\n",
    "for i in list:\n",
    "    prod*=i\n",
    "print(\"Product is:\",prod)\n",
    "\n",
    "# Using for loop print numbers from 50 to 70\n",
    "lst=[]\n",
    "for j in range(50,71):\n",
    "    lst.append(j)\n",
    "print(lst)    "
   ]
  },
  {
   "cell_type": "code",
   "execution_count": 71,
   "metadata": {},
   "outputs": [
    {
     "name": "stdout",
     "output_type": "stream",
     "text": [
      "Enter the number6\n",
      "6 X 1 = 6\n",
      "6 X 2 = 12\n",
      "6 X 3 = 18\n",
      "6 X 4 = 24\n",
      "6 X 5 = 30\n",
      "6 X 6 = 36\n",
      "6 X 7 = 42\n",
      "6 X 8 = 48\n",
      "6 X 9 = 54\n",
      "6 X 10 = 60\n"
     ]
    }
   ],
   "source": [
    "# Using for loop show the multiplication number of a table\n",
    "s=int(input(\"Enter the number\"))\n",
    "for h in range(1,11):\n",
    "    print(s,\"X\",h,\"=\",h*s)"
   ]
  },
  {
   "cell_type": "markdown",
   "metadata": {},
   "source": [
    "### Transfer Statements"
   ]
  },
  {
   "cell_type": "code",
   "execution_count": null,
   "metadata": {},
   "outputs": [],
   "source": [
    "# Break the loop if 5 is present\n",
    "lst=[1,2,3,4,6,7,5,8,9,0]\n",
    "for i in lst:\n",
    "    if(i==5):\n",
    "        break;\n",
    "    print(i)"
   ]
  },
  {
   "cell_type": "code",
   "execution_count": null,
   "metadata": {},
   "outputs": [],
   "source": [
    "# print 1 to 20, skip multiples of 3\n",
    "for i in range(1,21):\n",
    "    if i%3==0:\n",
    "        continue;\n",
    "    print(i)"
   ]
  },
  {
   "cell_type": "code",
   "execution_count": null,
   "metadata": {},
   "outputs": [],
   "source": [
    "# Enter number only greater than 10\n",
    "x=int(input(\"Enter number greater than 10: \"))\n",
    "assert x>10, \"Wrong number entered \" # if it is true then code will continue, \n",
    "#the statement will appear if it is False, Statement is optional\n",
    "print(\"You entered\",x)"
   ]
  },
  {
   "cell_type": "markdown",
   "metadata": {},
   "source": [
    "# Command Line Arguments\n",
    "    - Another way to accept the inputs\n",
    "    - Input will be passed to the program as an argument from command prompt\n",
    "    - sys module is used\n",
    "    - sys.argv contains the list in string form\n",
    "    - Elements can be accessed with indexing, where index 0 contains filename and rest are arguments\n",
    "    - Execute\n",
    "        - Write program\n",
    "        - Save with .py extension\n",
    "        - Open Command Prompt\n",
    "        - Change the path to where the program is being saved\n",
    "        - py filename.py arg1 arg2 arg3 (Arguments)"
   ]
  },
  {
   "cell_type": "code",
   "execution_count": null,
   "metadata": {},
   "outputs": [],
   "source": [
    "import sys\n",
    "lst=sys.argv\n",
    "for i in lst:\n",
    "    print(i)\n",
    "!python python_notes.ipynb 123 345 345\n"
   ]
  },
  {
   "cell_type": "markdown",
   "metadata": {},
   "source": [
    "# Functions"
   ]
  },
  {
   "cell_type": "code",
   "execution_count": 60,
   "metadata": {},
   "outputs": [
    {
     "name": "stdout",
     "output_type": "stream",
     "text": [
      "Average of two numbers is 15.0\n"
     ]
    }
   ],
   "source": [
    "# A function which prints average of 2 numbers\n",
    "def average(a,b):# a,b are parameters\n",
    "    print(\"Average of two numbers is\",(a+b)/2)\n",
    "average(10,20)"
   ]
  },
  {
   "cell_type": "code",
   "execution_count": 61,
   "metadata": {},
   "outputs": [
    {
     "name": "stdout",
     "output_type": "stream",
     "text": [
      "15.0\n",
      "15.0\n"
     ]
    }
   ],
   "source": [
    "# Return the result of same function\n",
    "def average(a,b):\n",
    "    return (a+b)/2\n",
    "s=average(10,20)\n",
    "print(s)\n",
    "print(average(10,20)) # other method"
   ]
  },
  {
   "cell_type": "code",
   "execution_count": 62,
   "metadata": {},
   "outputs": [
    {
     "name": "stdout",
     "output_type": "stream",
     "text": [
      "(15, 5, 50, 2.0)\n"
     ]
    }
   ],
   "source": [
    "# Returning Multiple values\n",
    "def calc(a,b):\n",
    "    x=a+b\n",
    "    y=a-b\n",
    "    z=a*b\n",
    "    u=a/b\n",
    "    return x,y,z,u # result will be returned as a tuple\n",
    "result = calc(10,5)\n",
    "print(result)"
   ]
  },
  {
   "cell_type": "markdown",
   "metadata": {},
   "source": [
    "### Global and Local Variables\n",
    "    Global variables: Can be accessed anywhere in the program.\n",
    "    Local variables: Can be accessed only inside the funciton."
   ]
  },
  {
   "cell_type": "code",
   "execution_count": 63,
   "metadata": {},
   "outputs": [
    {
     "name": "stdout",
     "output_type": "stream",
     "text": [
      "108\n",
      "340\n",
      "108\n",
      "340\n",
      "108\n"
     ]
    }
   ],
   "source": [
    "x= 108 # Global variable\n",
    "def num():\n",
    "    x=340 # Local variable\n",
    "    print(x)\n",
    "    print(globals()['x']) # Accessing global variable inside the function\n",
    "print(x)\n",
    "num()\n",
    "# Assigning function to a variable\n",
    "z=num # no function brackets (no num())\n",
    "z() # accessing function through a variable"
   ]
  },
  {
   "cell_type": "markdown",
   "metadata": {},
   "source": [
    "### Function inside another function"
   ]
  },
  {
   "cell_type": "code",
   "execution_count": 59,
   "metadata": {},
   "outputs": [
    {
     "data": {
      "text/plain": [
       "'Hello Gaurav'"
      ]
     },
     "execution_count": 59,
     "metadata": {},
     "output_type": "execute_result"
    }
   ],
   "source": [
    "def display(name):\n",
    "    def message(): # this can only be accessed inside the function\n",
    "        return \"Hello \"\n",
    "    result= message()+name\n",
    "    return result\n",
    "display(\"Gaurav\")"
   ]
  },
  {
   "cell_type": "markdown",
   "metadata": {},
   "source": [
    "### Passing function as a parameter to other"
   ]
  },
  {
   "cell_type": "code",
   "execution_count": 58,
   "metadata": {},
   "outputs": [
    {
     "data": {
      "text/plain": [
       "'Hello Gaurav'"
      ]
     },
     "execution_count": 58,
     "metadata": {},
     "output_type": "execute_result"
    }
   ],
   "source": [
    "def display(fun):\n",
    "    return \"Hello \"+fun\n",
    "def name():\n",
    "    return \"Gaurav\"\n",
    "display(name())    "
   ]
  },
  {
   "cell_type": "markdown",
   "metadata": {},
   "source": [
    "### Returning functions"
   ]
  },
  {
   "cell_type": "code",
   "execution_count": 45,
   "metadata": {},
   "outputs": [
    {
     "name": "stdout",
     "output_type": "stream",
     "text": [
      "Hello\n"
     ]
    }
   ],
   "source": [
    "def display():\n",
    "    def message():\n",
    "        return \"Hello\"\n",
    "    return message\n",
    "fun=display() # here we are getting function message\n",
    "print(fun()) # invoking the function message"
   ]
  },
  {
   "cell_type": "code",
   "execution_count": 46,
   "metadata": {},
   "outputs": [
    {
     "name": "stdout",
     "output_type": "stream",
     "text": [
      "[1, 2, 3, 4, 5]\n"
     ]
    }
   ],
   "source": [
    "def fun(lst):\n",
    "    return lst\n",
    "print(fun([1,2,3,4,5]))"
   ]
  },
  {
   "cell_type": "markdown",
   "metadata": {},
   "source": [
    "### Recursion\n",
    "    Function calling itself\n",
    "    Steps:\n",
    "    - First, define the end condition\n",
    "    - Then define the else condition"
   ]
  },
  {
   "cell_type": "code",
   "execution_count": 47,
   "metadata": {},
   "outputs": [
    {
     "name": "stdout",
     "output_type": "stream",
     "text": [
      "6\n"
     ]
    }
   ],
   "source": [
    "# Calculate the factorial of a number\n",
    "def factorial(n):\n",
    "    if n==0:\n",
    "        return 1\n",
    "    else:\n",
    "        return n*factorial(n-1)\n",
    "print(factorial(3))    "
   ]
  },
  {
   "cell_type": "markdown",
   "metadata": {},
   "source": [
    "### Keyword Arguments"
   ]
  },
  {
   "cell_type": "code",
   "execution_count": 48,
   "metadata": {},
   "outputs": [
    {
     "name": "stdout",
     "output_type": "stream",
     "text": [
      "13.0\n",
      "15.0\n"
     ]
    }
   ],
   "source": [
    "def average(a,b):\n",
    "    return (a+b)/2\n",
    "print(average(12,14)) # the sequence matters\n",
    "print(average(b=10,a=20)) # here the sequence of variables doesn't matters but keywords matter"
   ]
  },
  {
   "cell_type": "markdown",
   "metadata": {},
   "source": [
    "### Default Arguments"
   ]
  },
  {
   "cell_type": "code",
   "execution_count": 49,
   "metadata": {},
   "outputs": [
    {
     "name": "stdout",
     "output_type": "stream",
     "text": [
      "20.0\n",
      "30.0\n"
     ]
    }
   ],
   "source": [
    "def average(a=10,b=30): # If no argument is passed then these will be considered\n",
    "    return (a+b)/2\n",
    "print(average())\n",
    "print(average(b=50))"
   ]
  },
  {
   "cell_type": "markdown",
   "metadata": {},
   "source": [
    "# Lambdas\n",
    "    Anonymous function with no name\n",
    "    General Syntax: lambda argument_list:expression\n",
    "    But usually it is not used like this."
   ]
  },
  {
   "cell_type": "code",
   "execution_count": 36,
   "metadata": {},
   "outputs": [
    {
     "name": "stdout",
     "output_type": "stream",
     "text": [
      "8\n"
     ]
    }
   ],
   "source": [
    "#Cube of a number\n",
    "f = lambda n:n**3\n",
    "print(f(2))"
   ]
  },
  {
   "cell_type": "code",
   "execution_count": 37,
   "metadata": {},
   "outputs": [
    {
     "name": "stdout",
     "output_type": "stream",
     "text": [
      "YES\n",
      "NO\n"
     ]
    }
   ],
   "source": [
    "# Create a lambda that will return \"YES\" if the given number is even and \"NO\" if the given number is odd\n",
    "f = lambda x:\"YES\" if x%2==0 else \"NO\"\n",
    "print(f(10))\n",
    "print(f(9))"
   ]
  },
  {
   "cell_type": "code",
   "execution_count": 38,
   "metadata": {},
   "outputs": [
    {
     "name": "stdout",
     "output_type": "stream",
     "text": [
      "30\n"
     ]
    }
   ],
   "source": [
    "# Passing more than one numbers to a lambda\n",
    "f= lambda a,b: a+b\n",
    "print(f(10,20))"
   ]
  },
  {
   "cell_type": "code",
   "execution_count": 39,
   "metadata": {},
   "outputs": [
    {
     "name": "stdout",
     "output_type": "stream",
     "text": [
      "[2, 10, 44]\n"
     ]
    }
   ],
   "source": [
    "# Retrive only even numbers list from a list\n",
    "# filter function takes two arguments filter(lambda function, sequence)\n",
    "lst=[1,2,10,11,33,44]\n",
    "result =list(filter(lambda x:x%2==0, lst)) #converting filter object into list\n",
    "print(result) "
   ]
  },
  {
   "cell_type": "code",
   "execution_count": 40,
   "metadata": {},
   "outputs": [
    {
     "name": "stdout",
     "output_type": "stream",
     "text": [
      "[2, 4, 6, 8, 10, 12]\n"
     ]
    }
   ],
   "source": [
    "# Manipulating values of lists using map function\n",
    "# Syntax: map(lambda function, sequence)\n",
    "lst= [1,2,3,4,5,6]\n",
    "result = list(map(lambda n:n*2,lst))\n",
    "print(result)"
   ]
  },
  {
   "cell_type": "code",
   "execution_count": 41,
   "metadata": {},
   "outputs": [
    {
     "name": "stdout",
     "output_type": "stream",
     "text": [
      "15\n"
     ]
    }
   ],
   "source": [
    "# Use reduce function to calculate the sum of all elements in a list\n",
    "from functools import reduce\n",
    "lst=[1,2,3,4,5]\n",
    "result=reduce(lambda x,y:x+y,lst)\n",
    "print(result)"
   ]
  },
  {
   "cell_type": "code",
   "execution_count": 42,
   "metadata": {},
   "outputs": [
    {
     "name": "stdout",
     "output_type": "stream",
     "text": [
      "10\n"
     ]
    }
   ],
   "source": [
    "# Decorator: a function which performs an additional logic on a function and accepts and returns a functions\n",
    "# Since it returns a function so it must also have an inner function which gets returned\n",
    "# Double a number using decor function\n",
    "def decor(fun):\n",
    "    def inner():\n",
    "        result=fun() #invoking the parameter function\n",
    "        return result*2\n",
    "    return inner\n",
    "\n",
    "def num():\n",
    "    return 5\n",
    "\n",
    "resultfun=decor(num)\n",
    "print(resultfun())"
   ]
  },
  {
   "cell_type": "code",
   "execution_count": 43,
   "metadata": {},
   "outputs": [
    {
     "name": "stdout",
     "output_type": "stream",
     "text": [
      "Hello Gaurav How are you?\n"
     ]
    }
   ],
   "source": [
    "'''make a function hello() which will retun \"Hello\" and a decorator which the decorate the string by adding \"How are you\" \n",
    "at he end'''\n",
    "def decorfun(fun):\n",
    "    def inner(n):\n",
    "        result= fun(n)\n",
    "        result += \" How are you?\"\n",
    "        return result\n",
    "    return inner\n",
    "\n",
    "@decorfun\n",
    "def hello(name):\n",
    "    return \"Hello \"+ name\n",
    "print(hello('Gaurav'))"
   ]
  },
  {
   "cell_type": "code",
   "execution_count": 44,
   "metadata": {},
   "outputs": [
    {
     "name": "stdout",
     "output_type": "stream",
     "text": [
      "10\n",
      "11\n",
      "12\n",
      "13\n",
      "14\n"
     ]
    }
   ],
   "source": [
    "\"\"\"Generators are the functions that returns 'sequence of values'\n",
    "but it uses a yield statement which stores each value in the sequence and at last returns it\"\"\"\n",
    "# Creating a custom generator function\n",
    "def customgen(x,y):\n",
    "    while x<y:\n",
    "        yield x # stores elements in the memory\n",
    "        x+=1\n",
    "result = customgen(10,15)\n",
    "for i in result:\n",
    "    print(i)"
   ]
  },
  {
   "cell_type": "markdown",
   "metadata": {},
   "source": [
    "# List Comprehensions\n",
    "    l = [expression for item in iterable if condition]"
   ]
  },
  {
   "cell_type": "code",
   "execution_count": 34,
   "metadata": {},
   "outputs": [
    {
     "name": "stdout",
     "output_type": "stream",
     "text": [
      "Enter the three numbers separated by space2 4 5\n",
      "[2, 4, 5]\n"
     ]
    }
   ],
   "source": [
    "lst = [int(x) for x in input(\"Enter the three numbers separated by space\").split()]\n",
    "print(lst)"
   ]
  },
  {
   "cell_type": "code",
   "execution_count": 35,
   "metadata": {},
   "outputs": [
    {
     "name": "stdout",
     "output_type": "stream",
     "text": [
      "[2, 4, 6, 8, 10, 12, 14, 16, 18, 20]\n"
     ]
    }
   ],
   "source": [
    "''' Using list comprehension, get the even numbers from  1 to 20'''\n",
    "'''lst = [x for x in range(2,21,2)]\n",
    "print(lst)'''\n",
    "lst = [x for x in range(1,21) if x%2==0]\n",
    "print(lst)"
   ]
  },
  {
   "cell_type": "code",
   "execution_count": 31,
   "metadata": {},
   "outputs": [
    {
     "name": "stdout",
     "output_type": "stream",
     "text": [
      "[5, 8, 9, 8, 5]\n"
     ]
    }
   ],
   "source": [
    "# Product the numbers of two different lists and store the result in new list\n",
    "a=[1,2,3,4,5]\n",
    "b=[5,4,3,2,1]\n",
    "z=[]\n",
    "'''for i in range(len(a)):\n",
    "        a.append(a[i]*b[i])'''\n",
    "z= [a[i]*b[i] for i in range(len(a))]\n",
    "print(z)"
   ]
  },
  {
   "cell_type": "code",
   "execution_count": 30,
   "metadata": {},
   "outputs": [
    {
     "name": "stdout",
     "output_type": "stream",
     "text": [
      "[3, 4, 5]\n"
     ]
    }
   ],
   "source": [
    "# Common elements in a list\n",
    "a = [1,2,3,4,5]\n",
    "b = [3,4,5,6,7]\n",
    "c=[]\n",
    "'''for i in a:\n",
    "    if i in b:\n",
    "        c.append(i)'''\n",
    "c=[i for i in a if i in b]\n",
    "print(c)        "
   ]
  },
  {
   "cell_type": "markdown",
   "metadata": {},
   "source": [
    "# Object Oriented Programming\n",
    "    Encapsulation\n",
    "    Inheritance\n",
    "    Abstraction\n",
    "    Polymorphism\n",
    " All these 4 OOPs principle are applied by classes and objects\n",
    " Classes help us to create user defined datatype with the help of objects."
   ]
  },
  {
   "cell_type": "markdown",
   "metadata": {},
   "source": [
    "### Creating First Class"
   ]
  },
  {
   "cell_type": "code",
   "execution_count": 29,
   "metadata": {},
   "outputs": [
    {
     "name": "stdout",
     "output_type": "stream",
     "text": [
      "IPhone\n",
      "Its Awesome\n",
      "700\n"
     ]
    }
   ],
   "source": [
    "class Product:\n",
    "    def __init__(self):   # constructor, self keyword stores values to the object address.\n",
    "        self.name= 'IPhone'\n",
    "        self.description= 'Its Awesome'\n",
    "        self.price= 700\n",
    "\n",
    "p1 = Product()\n",
    "print(p1.name)\n",
    "print(p1.description)\n",
    "print(p1.price)"
   ]
  },
  {
   "cell_type": "markdown",
   "metadata": {},
   "source": [
    "### Parametrized Constructor"
   ]
  },
  {
   "cell_type": "code",
   "execution_count": 28,
   "metadata": {},
   "outputs": [
    {
     "name": "stdout",
     "output_type": "stream",
     "text": [
      "Python\n",
      "[1, 2, 4, 5]\n"
     ]
    }
   ],
   "source": [
    "class Course:\n",
    "    def __init__(self,name,ratings):\n",
    "        self.name = name\n",
    "        self.ratings = ratings\n",
    "\n",
    "p1 = Course(\"Python\",[1,2,4,5])\n",
    "print(p1.name)\n",
    "print(p1.ratings)"
   ]
  },
  {
   "cell_type": "markdown",
   "metadata": {},
   "source": [
    "### Calling function using objects"
   ]
  },
  {
   "cell_type": "code",
   "execution_count": 27,
   "metadata": {},
   "outputs": [
    {
     "name": "stdout",
     "output_type": "stream",
     "text": [
      "Python\n",
      "[1, 2, 4, 5]\n",
      "Average rating is 3.0\n"
     ]
    }
   ],
   "source": [
    "class Course:\n",
    "    def __init__(self,name,ratings):\n",
    "        self.name = name\n",
    "        self.ratings = ratings\n",
    "    def average(self):\n",
    "        number_of_ratings = len(self.ratings)\n",
    "        avg= sum(self.ratings)/number_of_ratings\n",
    "        print(\"Average rating is\",avg)\n",
    "        \n",
    "p1 = Course(\"Python\",[1,2,4,5])\n",
    "print(p1.name)\n",
    "print(p1.ratings)\n",
    "p1.average()"
   ]
  },
  {
   "cell_type": "markdown",
   "metadata": {},
   "source": [
    "### Create Setter and Getter"
   ]
  },
  {
   "cell_type": "code",
   "execution_count": 26,
   "metadata": {},
   "outputs": [
    {
     "name": "stdout",
     "output_type": "stream",
     "text": [
      "John\n",
      "5000\n",
      "['Java', 'Sprint', 'Python']\n"
     ]
    }
   ],
   "source": [
    "class Programmer:\n",
    "    def setName(self,n):\n",
    "        self.name = n\n",
    "        \n",
    "    def getName(self):\n",
    "        return self.name\n",
    "    \n",
    "    def setSalary(self,sal):\n",
    "        self.salary = sal\n",
    "    \n",
    "    def getSalary(self):\n",
    "        return self.salary\n",
    "    \n",
    "    def setTechnologies(self,techs):\n",
    "        self.technologies = techs\n",
    "        \n",
    "    def getTechnologies(self):\n",
    "        return self.technologies\n",
    "    \n",
    "p1 = Programmer()\n",
    "p1.setName(\"John\")\n",
    "p1.setSalary(5000)\n",
    "p1.setTechnologies([\"Java\",\"Sprint\",\"Python\"])\n",
    "\n",
    "print(p1.getName())\n",
    "print(p1.getSalary())\n",
    "print(p1.getTechnologies())"
   ]
  },
  {
   "cell_type": "code",
   "execution_count": 25,
   "metadata": {},
   "outputs": [
    {
     "name": "stdout",
     "output_type": "stream",
     "text": [
      "Python\n",
      "[1, 2, 4, 5]\n"
     ]
    }
   ],
   "source": [
    "# Using display function\n",
    "class Course:\n",
    "    def __init__(self,name,ratings):\n",
    "        self.name = name\n",
    "        self.ratings = ratings\n",
    "    def display(self):\n",
    "        print(self.name)\n",
    "        print(self.ratings)\n",
    "\n",
    "p1 = Course(\"Python\",[1,2,4,5])\n",
    "p1.display()"
   ]
  },
  {
   "cell_type": "markdown",
   "metadata": {},
   "source": [
    "### Static Field"
   ]
  },
  {
   "cell_type": "code",
   "execution_count": 24,
   "metadata": {},
   "outputs": [
    {
     "name": "stdout",
     "output_type": "stream",
     "text": [
      "ME\n",
      "ME\n",
      "45\n",
      "65\n"
     ]
    }
   ],
   "source": [
    "class student:\n",
    "    major = \"ME\"\n",
    "    \n",
    "    def __init__(self,rollno,name):\n",
    "        self.rollno = rollno\n",
    "        self.name = name\n",
    "        \n",
    "s1 = student(45,\"John\")\n",
    "s2 = student(65,\"Gaurav\")\n",
    "print(s1.major)\n",
    "print(s2.major)\n",
    "print(s1.rollno)\n",
    "print(s2.rollno)"
   ]
  },
  {
   "cell_type": "markdown",
   "metadata": {},
   "source": [
    "### Count the number of object"
   ]
  },
  {
   "cell_type": "code",
   "execution_count": 23,
   "metadata": {},
   "outputs": [
    {
     "name": "stdout",
     "output_type": "stream",
     "text": [
      "3\n"
     ]
    }
   ],
   "source": [
    "class objectCounter:\n",
    "    number_of_objects = 0\n",
    "    def __init__(self):\n",
    "        objectCounter.number_of_objects += 1\n",
    "    \n",
    "    def display():\n",
    "        print(objectCounter.number_of_objects)\n",
    "\n",
    "p1 = objectCounter()\n",
    "p2 = objectCounter()\n",
    "p3 = objectCounter()\n",
    "objectCounter.display()"
   ]
  },
  {
   "cell_type": "markdown",
   "metadata": {},
   "source": [
    "### Creating Inner Class"
   ]
  },
  {
   "cell_type": "code",
   "execution_count": 22,
   "metadata": {},
   "outputs": [
    {
     "name": "stdout",
     "output_type": "stream",
     "text": [
      "Engine Started\n"
     ]
    }
   ],
   "source": [
    "class Car:\n",
    "    def __init__(self,make,year):\n",
    "        self.make = make\n",
    "        self.year = year\n",
    "    \n",
    "    class Engine:\n",
    "        def __init__(self,number):\n",
    "            self.number = number\n",
    "        def start(self):\n",
    "            print(\"Engine Started\")\n",
    "\n",
    "c = Car(\"BMW\",2020)\n",
    "e = c.Engine(1234)\n",
    "e.start()"
   ]
  },
  {
   "cell_type": "markdown",
   "metadata": {},
   "source": [
    "# Encapsulation\n",
    "    Hiding the functionalities of the class using Private fields"
   ]
  },
  {
   "cell_type": "code",
   "execution_count": 21,
   "metadata": {},
   "outputs": [
    {
     "name": "stdout",
     "output_type": "stream",
     "text": [
      "123\n",
      "John\n",
      "123\n"
     ]
    }
   ],
   "source": [
    "'''class Student:\n",
    "    def __init__(self):\n",
    "        self.id = 123     # These are public fields hence can be accessed directly\n",
    "        self.name = \"John\"\n",
    "s = Student()\n",
    "print(s.id) # Accessing public fields directly\n",
    "print(s.name)'''\n",
    "class Student:\n",
    "    def __init__(self):\n",
    "        self.__id = 123     # These are private fields hence can't be accessed directly\n",
    "        self.__name = \"John\"\n",
    "    def display(self):\n",
    "        print(self.__id)\n",
    "        print(self.__name)\n",
    "\n",
    "s = Student()\n",
    "s.display()\n",
    "print(s._Student__id) # Another way to access private variables"
   ]
  },
  {
   "cell_type": "markdown",
   "metadata": {},
   "source": [
    "# Inheritance\n",
    "    Process of defining new object with the help of existing object"
   ]
  },
  {
   "cell_type": "code",
   "execution_count": 20,
   "metadata": {},
   "outputs": [
    {
     "name": "stdout",
     "output_type": "stream",
     "text": [
      "True\n",
      "BMW\n",
      "328i\n",
      "2018\n",
      "Cruise Control Enabled True\n",
      "Starting the car\n",
      "Stopping the car\n"
     ]
    }
   ],
   "source": [
    "class BMW:\n",
    "    def __init__(self,make,model,year):\n",
    "        self.make = make\n",
    "        self.model = model\n",
    "        self.year = year\n",
    "    def start(self):\n",
    "        print(\"Starting the car\")\n",
    "    def stop(self):\n",
    "        print(\"Stopping the car\")\n",
    "    \n",
    "class ThreeSeries(BMW): # Inheriting the class\n",
    "    def __init__(self,cruisecontrolEnabled,make,model,year): #in constructor, fields of parent class should be present to access in child class\n",
    "        BMW.__init__(self,make,model,year)# The first line in child class constructor is to invoke parent class constructor\n",
    "        self.cruisecontrolEnabled = cruisecontrolEnabled # new field only available in child class\n",
    "        \n",
    "    def display(self):\n",
    "        print(\"Cruise Control Enabled\",self.cruisecontrolEnabled)\n",
    "        \n",
    "class FiveSeries(BMW):\n",
    "    def __init__(self,parkingAssistEnabled,make,model,year): #in constructor, fields of parent class should be present to access in child class\n",
    "        BMW.__init__(self,make,model,year)# The first line in child class constructor is to invoke parent class constructor\n",
    "        self.parkingAssistEnabled = parkingAssistEnabled # new field only available in child class\n",
    "        \n",
    "threeSeries = ThreeSeries(True,\"BMW\",\"328i\",\"2018\")\n",
    "print(threeSeries.cruisecontrolEnabled)\n",
    "print(threeSeries.make)\n",
    "print(threeSeries.model)\n",
    "print(threeSeries.year)\n",
    "\n",
    "threeSeries.display() # dsiplay can only be accessed by the object of threeSeries class\n",
    "# Inheriting the functionality from parent class\n",
    "threeSeries.start()\n",
    "threeSeries.stop()\n",
    "# Same thing we can do with FiveSeries class. "
   ]
  },
  {
   "cell_type": "code",
   "execution_count": 19,
   "metadata": {},
   "outputs": [
    {
     "name": "stdout",
     "output_type": "stream",
     "text": [
      "Starting the car\n",
      "Button start\n"
     ]
    }
   ],
   "source": [
    "class BMW:\n",
    "    def __init__(self,make,model,year):\n",
    "        self.make = make\n",
    "        self.model = model\n",
    "        self.year = year\n",
    "    def start(self):\n",
    "        print(\"Starting the car\")\n",
    "    def stop(self):\n",
    "        print(\"Stopping the car\")\n",
    "    \n",
    "class ThreeSeries(BMW): \n",
    "    def __init__(self,cruisecontrolEnabled,make,model,year): \n",
    "        super().__init__(make,model,year) # another way to invoke parent class constructor\n",
    "        self.cruisecontrolEnabled = cruisecontrolEnabled \n",
    "        \n",
    "    def display(self):\n",
    "        print(\"Cruise Control Enabled\",self.cruisecontrolEnabled)\n",
    "        \n",
    "    def start(self):# function overiding\n",
    "        super().start() # to invoke parent class functions \n",
    "        print(\"Button start\")    \n",
    "        \n",
    "threeSeries = ThreeSeries(True,\"BMW\",\"328i\",\"2018\")\n",
    "# Sometimes we need to perform different fuction with same method name.\n",
    "threeSeries.start()"
   ]
  },
  {
   "cell_type": "markdown",
   "metadata": {},
   "source": [
    "# Polymorphism\n",
    "    when a one single entity like an operator or a function performs many different tasks"
   ]
  },
  {
   "cell_type": "markdown",
   "metadata": {},
   "source": [
    "### Duck Typing"
   ]
  },
  {
   "cell_type": "code",
   "execution_count": 18,
   "metadata": {},
   "outputs": [
    {
     "name": "stdout",
     "output_type": "stream",
     "text": [
      "Quack Quack!\n",
      "Hello\n"
     ]
    }
   ],
   "source": [
    "class Duck:\n",
    "    def talk(self):\n",
    "        print(\"Quack Quack!\")\n",
    "class Human:\n",
    "    def talk(self):\n",
    "        print(\"Hello\")\n",
    "def callTalk(obj):\n",
    "    obj.talk()\n",
    "    \n",
    "d = Duck()\n",
    "callTalk(d)\n",
    "h = Human()\n",
    "callTalk(h)\n",
    "# So, as you can see here, same functions performs different operations"
   ]
  },
  {
   "cell_type": "markdown",
   "metadata": {},
   "source": [
    "### Operator overloading\n",
    "    Eg, + operator is overloaded to perform multiple functions"
   ]
  },
  {
   "cell_type": "code",
   "execution_count": 17,
   "metadata": {},
   "outputs": [
    {
     "name": "stdout",
     "output_type": "stream",
     "text": [
      "30\n",
      "Hello How are you\n",
      "[1, 2, 3, 4, 5, 6, 7, 8]\n"
     ]
    }
   ],
   "source": [
    "x = 10\n",
    "y = 20\n",
    "print(x + y) # addition\n",
    "\n",
    "s1 = \"Hello \"\n",
    "s2 = \"How are you\"\n",
    "print(s1 + s2) # String Concatenation\n",
    "\n",
    "l1 = [1,2,3,4]\n",
    "l2 = [5,6,7,8]\n",
    "print(l1 + l2) # Appending"
   ]
  },
  {
   "cell_type": "markdown",
   "metadata": {},
   "source": [
    "### Abstraction\n",
    "    The object of class having extract method can't be created\n",
    "    The child classes will have to implement abstract method if the parent class has abstract method\n",
    "    the abstract method in parent class doesn't do anything"
   ]
  },
  {
   "cell_type": "code",
   "execution_count": 16,
   "metadata": {},
   "outputs": [
    {
     "name": "stdout",
     "output_type": "stream",
     "text": [
      "True\n",
      "BMW\n",
      "328i\n",
      "2018\n",
      "Cruise Control Enabled True\n",
      "Starting the car\n",
      "Stopping the car\n"
     ]
    }
   ],
   "source": [
    "from abc import abstractmethod,ABC\n",
    "class BMW(ABC):\n",
    "    def __init__(self,make,model,year):\n",
    "        self.make = make\n",
    "        self.model = model\n",
    "        self.year = year\n",
    "    def start(self):\n",
    "        print(\"Starting the car\")\n",
    "    def stop(self):\n",
    "        print(\"Stopping the car\")\n",
    "    \n",
    "    @abstractmethod\n",
    "    def drive():\n",
    "        pass # abstract function doesn't do anything in parent class\n",
    "    \n",
    "class ThreeSeries(BMW): \n",
    "    def __init__(self,cruisecontrolEnabled,make,model,year): \n",
    "        BMW.__init__(self,make,model,year)\n",
    "        self.cruisecontrolEnabled = cruisecontrolEnabled \n",
    "        \n",
    "    def display(self):\n",
    "        print(\"Cruise Control Enabled\",self.cruisecontrolEnabled)\n",
    "        \n",
    "    def drive():\n",
    "        print(\"Car has started\")\n",
    "        \n",
    "class FiveSeries(BMW):\n",
    "    def __init__(self,parkingAssistEnabled,make,model,year): \n",
    "        BMW.__init__(self,make,model,year)\n",
    "        self.parkingAssistEnabled = parkingAssistEnabled \n",
    "        \n",
    "threeSeries = ThreeSeries(True,\"BMW\",\"328i\",\"2018\")\n",
    "print(threeSeries.cruisecontrolEnabled)\n",
    "print(threeSeries.make)\n",
    "print(threeSeries.model)\n",
    "print(threeSeries.year)\n",
    "\n",
    "threeSeries.display() \n",
    "threeSeries.start()\n",
    "threeSeries.stop()\n"
   ]
  },
  {
   "cell_type": "markdown",
   "metadata": {},
   "source": [
    "# Exception Handling, Assertions and Logging\n",
    "Syntax:\n",
    "\n",
    "    try:\n",
    "        {code}\n",
    "    except error_name:\n",
    "        error statement\n",
    "        \n",
    "    else:\n",
    "        if 'except' statement is not executed then\n",
    "        'else' statement is executed.\n",
    "        \n",
    "    finally:\n",
    "        if error occurs in a single statement of the code in 'try' then the compiler will directly \n",
    "        go to the execpt statement instead of reading the rest of the code.So, in 'finally', the other code is written\n",
    "        to execute it."
   ]
  },
  {
   "cell_type": "code",
   "execution_count": 15,
   "metadata": {},
   "outputs": [
    {
     "name": "stdout",
     "output_type": "stream",
     "text": [
      "Enter two numbers4 0\n",
      "Division by zero is not allowed\n",
      "Please enter a non-zero number\n",
      "file closed\n",
      "Code after the exception\n"
     ]
    }
   ],
   "source": [
    "try:\n",
    "    f = open(\"myfile\",\"w\")\n",
    "    a,b = [int(x) for x in input(\"Enter two numbers\").split()]\n",
    "    c = a/b\n",
    "    f.write(\"Writing %d into file\"%c)\n",
    "except ZeroDivisionError:\n",
    "    print(\"Division by zero is not allowed\")\n",
    "    print(\"Please enter a non-zero number\")\n",
    "finally:\n",
    "    f.close()   # file will not be closed if code is written after error statement in 'try' block\n",
    "    print(\"file closed\")\n",
    "print(\"Code after the exception\")    "
   ]
  },
  {
   "cell_type": "markdown",
   "metadata": {},
   "source": [
    "### Using Else"
   ]
  },
  {
   "cell_type": "code",
   "execution_count": 14,
   "metadata": {},
   "outputs": [
    {
     "name": "stdout",
     "output_type": "stream",
     "text": [
      "Enter two numbers1 3\n",
      "Non Zero number entered\n",
      "file closed\n",
      "Code after the exception\n"
     ]
    }
   ],
   "source": [
    "try:\n",
    "    f = open(\"myfile\",\"w\")\n",
    "    a,b = [int(x) for x in input(\"Enter two numbers\").split()]\n",
    "    c = a/b\n",
    "    f.write(\"Writing %d into file\"%c)\n",
    "except ZeroDivisionError:\n",
    "    print(\"Division by zero is not allowed\")\n",
    "    print(\"Please enter a non-zero number\")\n",
    "else: # executed when except block is not executed\n",
    "    print(\"Non Zero number entered\")\n",
    "finally:\n",
    "    f.close()   # file will not be closed if code is written after error statement in 'try' block\n",
    "    print(\"file closed\")\n",
    "print(\"Code after the exception\")   "
   ]
  },
  {
   "cell_type": "markdown",
   "metadata": {},
   "source": [
    "### Creating your own exception"
   ]
  },
  {
   "cell_type": "code",
   "execution_count": 13,
   "metadata": {},
   "outputs": [
    {
     "name": "stdout",
     "output_type": "stream",
     "text": [
      "Enter the amout to be withdrawn 677\n"
     ]
    },
    {
     "ename": "OvertheLimit",
     "evalue": "More than 500 can't be withdrawn",
     "output_type": "error",
     "traceback": [
      "\u001b[1;31m---------------------------------------------------------------------------\u001b[0m",
      "\u001b[1;31mOvertheLimit\u001b[0m                              Traceback (most recent call last)",
      "\u001b[1;32m<ipython-input-13-e9c936eae792>\u001b[0m in \u001b[0;36m<module>\u001b[1;34m\u001b[0m\n\u001b[0;32m      8\u001b[0m \u001b[1;33m\u001b[0m\u001b[0m\n\u001b[0;32m      9\u001b[0m \u001b[0ms\u001b[0m \u001b[1;33m=\u001b[0m \u001b[0mint\u001b[0m\u001b[1;33m(\u001b[0m\u001b[0minput\u001b[0m\u001b[1;33m(\u001b[0m\u001b[1;34m\"Enter the amout to be withdrawn \"\u001b[0m\u001b[1;33m)\u001b[0m\u001b[1;33m)\u001b[0m\u001b[1;33m\u001b[0m\u001b[1;33m\u001b[0m\u001b[0m\n\u001b[1;32m---> 10\u001b[1;33m \u001b[0mwithdrawl\u001b[0m\u001b[1;33m(\u001b[0m\u001b[0ms\u001b[0m\u001b[1;33m)\u001b[0m\u001b[1;33m\u001b[0m\u001b[1;33m\u001b[0m\u001b[0m\n\u001b[0m",
      "\u001b[1;32m<ipython-input-13-e9c936eae792>\u001b[0m in \u001b[0;36mwithdrawl\u001b[1;34m(amount)\u001b[0m\n\u001b[0;32m      5\u001b[0m \u001b[1;32mdef\u001b[0m \u001b[0mwithdrawl\u001b[0m\u001b[1;33m(\u001b[0m\u001b[0mamount\u001b[0m\u001b[1;33m)\u001b[0m\u001b[1;33m:\u001b[0m\u001b[1;33m\u001b[0m\u001b[1;33m\u001b[0m\u001b[0m\n\u001b[0;32m      6\u001b[0m     \u001b[1;32mif\u001b[0m\u001b[1;33m(\u001b[0m\u001b[0mamount\u001b[0m \u001b[1;33m>\u001b[0m \u001b[1;36m500\u001b[0m\u001b[1;33m)\u001b[0m\u001b[1;33m:\u001b[0m \u001b[1;31m# So, here instead of printing statement I want to raise an exception\u001b[0m\u001b[1;33m\u001b[0m\u001b[1;33m\u001b[0m\u001b[0m\n\u001b[1;32m----> 7\u001b[1;33m         \u001b[1;32mraise\u001b[0m \u001b[0mOvertheLimit\u001b[0m\u001b[1;33m(\u001b[0m\u001b[1;34m\"More than 500 can't be withdrawn\"\u001b[0m\u001b[1;33m)\u001b[0m\u001b[1;33m\u001b[0m\u001b[1;33m\u001b[0m\u001b[0m\n\u001b[0m\u001b[0;32m      8\u001b[0m \u001b[1;33m\u001b[0m\u001b[0m\n\u001b[0;32m      9\u001b[0m \u001b[0ms\u001b[0m \u001b[1;33m=\u001b[0m \u001b[0mint\u001b[0m\u001b[1;33m(\u001b[0m\u001b[0minput\u001b[0m\u001b[1;33m(\u001b[0m\u001b[1;34m\"Enter the amout to be withdrawn \"\u001b[0m\u001b[1;33m)\u001b[0m\u001b[1;33m)\u001b[0m\u001b[1;33m\u001b[0m\u001b[1;33m\u001b[0m\u001b[0m\n",
      "\u001b[1;31mOvertheLimit\u001b[0m: More than 500 can't be withdrawn"
     ]
    }
   ],
   "source": [
    "class OvertheLimit(Exception):   # Exception is a built in class in python, to raise exception\n",
    "    def __init__(self,msg):\n",
    "        self.msg = msg # This message will be displayed in the error statement\n",
    "\n",
    "def withdrawl(amount):\n",
    "    if(amount > 500): # So, here instead of printing statement I want to raise an exception\n",
    "        raise OvertheLimit(\"More than 500 can't be withdrawn\")\n",
    "        \n",
    "s = int(input(\"Enter the amout to be withdrawn \"))\n",
    "withdrawl(s)"
   ]
  },
  {
   "cell_type": "markdown",
   "metadata": {},
   "source": [
    "### Handling Errors"
   ]
  },
  {
   "cell_type": "code",
   "execution_count": 12,
   "metadata": {},
   "outputs": [
    {
     "name": "stdout",
     "output_type": "stream",
     "text": [
      "Enter an even number 5\n",
      "Wrong or odd number entered\n",
      "After the Assertion\n"
     ]
    }
   ],
   "source": [
    "try:\n",
    "    s = int(input(\"Enter an even number \"))\n",
    "    assert s%2 == 0, \"Wrong or odd number entered\"\n",
    "except AssertionError as obj:\n",
    "    print(obj)\n",
    "    \n",
    "print('After the Assertion')"
   ]
  },
  {
   "cell_type": "markdown",
   "metadata": {
    "scrolled": true
   },
   "source": [
    "# Files\n",
    "    Where we store our data.\n",
    "    Types:\n",
    "        Text File\n",
    "        Binary File\n",
    "    Opening file: f = open(\"finename / path to file\",\"mode\",\"buffer(optional)\")\n",
    "    Modes:\n",
    "    Binary and Text respectively\n",
    "     wb    w:- writes content from the beginning of the file, erase previous content\n",
    "     rb    r:- read fro mthe beginning of the file\n",
    "     ab    a:- add new content to the file after the continuition of the previous content\n",
    "     w+b   w+:- Write and Read\n",
    "     r+b   r+:- Read, Write and Append\n",
    "     a+b   a+:- appending and reading\n",
    "     xb    x:- exclusive mode, if a file already exist with the same name then it will throw an error"
   ]
  },
  {
   "cell_type": "markdown",
   "metadata": {},
   "source": [
    "### Writing String to a File"
   ]
  },
  {
   "cell_type": "code",
   "execution_count": 72,
   "metadata": {},
   "outputs": [
    {
     "name": "stdout",
     "output_type": "stream",
     "text": [
      "Enter Text: hwad njk knkjkjbh\n"
     ]
    }
   ],
   "source": [
    "f = open(\"Stringfile.txt\",\"w\") #opening the file\n",
    "s = input(\"Enter Text: \") # Taking input from the user\n",
    "f.write(s) # Writing string to file \n",
    "f.close() # CLosing the file"
   ]
  },
  {
   "cell_type": "markdown",
   "metadata": {},
   "source": [
    "### Reading a file"
   ]
  },
  {
   "cell_type": "code",
   "execution_count": 77,
   "metadata": {},
   "outputs": [
    {
     "name": "stdout",
     "output_type": "stream",
     "text": [
      "hwad njk knkjkjbh\n"
     ]
    }
   ],
   "source": [
    "f = open(\"Stringfile.txt\",\"r\")\n",
    "s = f.read() # Assigning the string to a variable\n",
    "print(s)\n",
    "f.close()"
   ]
  },
  {
   "cell_type": "markdown",
   "metadata": {},
   "source": [
    "### Writing Multiple Strings"
   ]
  },
  {
   "cell_type": "code",
   "execution_count": 78,
   "metadata": {},
   "outputs": [
    {
     "name": "stdout",
     "output_type": "stream",
     "text": [
      "Enter Text (Type @ when you are done)\n",
      "Hello this is Gaurav\n",
      "You can be a Python Programmer\n",
      "Just Work hard\n",
      "Leave Bad company\n",
      "@\n"
     ]
    }
   ],
   "source": [
    "f = open(\"MultipleStr.txt\",\"w\")\n",
    "print(\"Enter Text (Type @ when you are done)\")\n",
    "s = ''\n",
    "while s!='@':\n",
    "    s = input()\n",
    "    f.write(s + \"\\n\") # To get each sentence in a new line\n",
    "f.close()    "
   ]
  },
  {
   "cell_type": "markdown",
   "metadata": {},
   "source": [
    "### Checking if the file exist"
   ]
  },
  {
   "cell_type": "code",
   "execution_count": 80,
   "metadata": {},
   "outputs": [
    {
     "name": "stdout",
     "output_type": "stream",
     "text": [
      "Hello this is Gaurav\n",
      "You can be a Python Programmer\n",
      "Just Work hard\n",
      "Leave Bad company\n",
      "@\n",
      "\n"
     ]
    }
   ],
   "source": [
    "import os,sys\n",
    "if os.path.isfile(\"MultipleStr.txt\"):  # it returns boolean value 'True' if file exist\n",
    "    f = open(\"MultipleStr.txt\",\"r\")\n",
    "else:\n",
    "    print(\"File Doesn't exist\")\n",
    "    sys.exit() #program will terminate here and no code after it will be executed as file doesn't exist\n",
    "    \n",
    "s = f.read()\n",
    "print(s)\n",
    "f.close()"
   ]
  },
  {
   "cell_type": "markdown",
   "metadata": {},
   "source": [
    "# Regular Expressions\n",
    "    Used to validate,search and change the substring in a string using some patterns\n",
    "    Sequence characters:\n",
    "    \\d :- Digit\n",
    "    \\D:- Non Digit\n",
    "    \\s:- Whitespace\n",
    "    \\S:- Non Whitespace\n",
    "    \\w:- Any alphanumeric value\n",
    "    \\W:- Non alphanumeric\n",
    "    \\b:- Space around words\n",
    "    \\A:- Do search at the beginning of the string\n",
    "    \\Z:- Matches only at the end of the string"
   ]
  },
  {
   "cell_type": "markdown",
   "metadata": {},
   "source": [
    "### search()\n",
    "    Returns very first sub-string"
   ]
  },
  {
   "cell_type": "code",
   "execution_count": 5,
   "metadata": {},
   "outputs": [
    {
     "name": "stdout",
     "output_type": "stream",
     "text": [
      "one\n"
     ]
    }
   ],
   "source": [
    "import re\n",
    "str = \"Take up one idea. One idea at a time\"\n",
    "result = re.search(r'o\\w\\w',str) # searching sub-string in the 'str' , it returns object\n",
    "# o\\w\\w :- word starts with 'o' and contains total 3 characters.\n",
    "print(result.group()) # group method is used on that obbject"
   ]
  },
  {
   "cell_type": "markdown",
   "metadata": {},
   "source": [
    "### findall() and match()\n",
    "    findall():- From very beginnning to the end finds all substring matching the pattern and returns as a list\n",
    "    match():- Matches the given pattern in the string at the very beginning"
   ]
  },
  {
   "cell_type": "code",
   "execution_count": 14,
   "metadata": {},
   "outputs": [
    {
     "name": "stdout",
     "output_type": "stream",
     "text": [
      "None\n",
      "['one', 'one']\n",
      "Ta\n"
     ]
    }
   ],
   "source": [
    "import re\n",
    "str = \"Take up one idea. one idea at a time\"\n",
    "result = re.search(r'O\\w\\w',str)\n",
    "print(result)# Cannot use group() method on None\n",
    "result = re.findall(r'o\\w\\w',str)\n",
    "print(result)\n",
    "result = re.match(r'T\\w',str)\n",
    "print(result.group()) # Works only on the first beginning string\n"
   ]
  },
  {
   "cell_type": "markdown",
   "metadata": {},
   "source": [
    "### split()\n",
    "    Splits the string into a multiple strings and returns them in a list.[\"str 1\", \"str 2\"]"
   ]
  },
  {
   "cell_type": "code",
   "execution_count": 15,
   "metadata": {},
   "outputs": [
    {
     "name": "stdout",
     "output_type": "stream",
     "text": [
      "['Take up ', ' one idea.', ' one idea ', ' at a time']\n"
     ]
    }
   ],
   "source": [
    "import re\n",
    "str = \"Take up 1 one idea.23 one idea 408 at a time\"\n",
    "result = re.split(r'\\d+',str)\n",
    "print(result)"
   ]
  },
  {
   "cell_type": "markdown",
   "metadata": {},
   "source": [
    "### Substitute"
   ]
  },
  {
   "cell_type": "code",
   "execution_count": 17,
   "metadata": {},
   "outputs": [
    {
     "name": "stdout",
     "output_type": "stream",
     "text": [
      "Take up Two idea. Two idea at a time\n"
     ]
    }
   ],
   "source": [
    "import re\n",
    "str = \"Take up one idea. one idea at a time\"\n",
    "result = re.sub(r'one','Two',str)\n",
    "print(result)"
   ]
  },
  {
   "cell_type": "markdown",
   "metadata": {},
   "source": [
    "### Sequence characters are used for single characters, Quantifiers can be used for multiple characters\n",
    "    Like:\n",
    "    + :- to specify one or more repetitions of the preceding sequence character.\n",
    "        Eg, \\d+ :- Means that Number can be either single or multiple digit\n",
    "    * :- 0 or more repetitions of the preceding sequence character.\n",
    "    ? :- 0 or 1 repetition of the preceding sequence character.\n",
    "    {m}:- Exactly 'm' occurences of the preceding sequence character.\n",
    "    {m,n}:- 'm' is the minimum and 'n' is the maximum occurences.By default, m:-0 and n=(infinity)"
   ]
  },
  {
   "cell_type": "code",
   "execution_count": 4,
   "metadata": {},
   "outputs": [
    {
     "name": "stdout",
     "output_type": "stream",
     "text": [
      "['One', 'One']\n"
     ]
    }
   ],
   "source": [
    "import re\n",
    "str = \"Take up One idea. One idea at a time\"\n",
    "result = re.findall(r'O\\w+',str)\n",
    "print(result)"
   ]
  },
  {
   "cell_type": "code",
   "execution_count": 5,
   "metadata": {},
   "outputs": [
    {
     "name": "stdout",
     "output_type": "stream",
     "text": [
      "['One', 'One']\n"
     ]
    }
   ],
   "source": [
    "import re\n",
    "str = \"Take up One idea. One idea at a time\"\n",
    "result = re.findall(r'O\\w*',str)\n",
    "print(result)"
   ]
  },
  {
   "cell_type": "code",
   "execution_count": 6,
   "metadata": {},
   "outputs": [
    {
     "name": "stdout",
     "output_type": "stream",
     "text": [
      "['On', 'On']\n"
     ]
    }
   ],
   "source": [
    "import re\n",
    "str = \"Take up One idea. One idea at a time\"\n",
    "result = re.findall(r'O\\w?',str) # Exactly 0 or 1 character(\\w:- alphabet)\n",
    "print(result)"
   ]
  },
  {
   "cell_type": "code",
   "execution_count": 7,
   "metadata": {},
   "outputs": [
    {
     "name": "stdout",
     "output_type": "stream",
     "text": [
      "['One', 'One']\n"
     ]
    }
   ],
   "source": [
    "import re\n",
    "str = \"Take up One idea. One idea at a time\"\n",
    "result = re.findall(r'O\\w{1,2}',str)\n",
    "print(result)"
   ]
  },
  {
   "cell_type": "markdown",
   "metadata": {},
   "source": [
    "### Matching Dates"
   ]
  },
  {
   "cell_type": "code",
   "execution_count": 9,
   "metadata": {},
   "outputs": [
    {
     "name": "stdout",
     "output_type": "stream",
     "text": [
      "['12-03-2020', '09-01-2021']\n"
     ]
    }
   ],
   "source": [
    "import re\n",
    "str = \"Take up One 12-03-2020 idea. One idea 09-01-2021 at a time\"\n",
    "result = re.findall(r'\\d{1,2}-\\d{1,2}-\\d{4}',str)\n",
    "print(result)"
   ]
  },
  {
   "cell_type": "markdown",
   "metadata": {},
   "source": [
    "# Date and Time\n",
    "    epoch is used to tell the current time in seconds"
   ]
  },
  {
   "cell_type": "code",
   "execution_count": 2,
   "metadata": {},
   "outputs": [
    {
     "name": "stdout",
     "output_type": "stream",
     "text": [
      "Sun Jan 10 11:00:01 2021\n"
     ]
    }
   ],
   "source": [
    "import time\n",
    "epochseconds = time.time() # to get today's time in seconds\n",
    "t= time.ctime(epochseconds) # to get today's time in day date hh:mm:ss year format\n",
    "print(t)"
   ]
  },
  {
   "cell_type": "code",
   "execution_count": 3,
   "metadata": {},
   "outputs": [
    {
     "name": "stdout",
     "output_type": "stream",
     "text": [
      "Current Date: 10/1/2021\n",
      "Current Time: 11:2:40\n"
     ]
    }
   ],
   "source": [
    "import datetime\n",
    "dt = datetime.datetime.today()\n",
    "print(\"Current Date: {}/{}/{}\".format(dt.day,dt.month,dt.year))\n",
    "print(\"Current Time: {}:{}:{}\".format(dt.hour,dt.minute,dt.second))"
   ]
  },
  {
   "cell_type": "markdown",
   "metadata": {},
   "source": [
    "### Combining Date and Time"
   ]
  },
  {
   "cell_type": "code",
   "execution_count": 5,
   "metadata": {},
   "outputs": [
    {
     "name": "stdout",
     "output_type": "stream",
     "text": [
      "2021-01-10 11:07:00\n"
     ]
    }
   ],
   "source": [
    "from datetime import *\n",
    "d = date(2021,1,10) # yyyy,m,dd format\n",
    "t = time(11,7) # hour,min,second format\n",
    "dt = datetime.combine(d,t)\n",
    "print(dt)"
   ]
  },
  {
   "cell_type": "markdown",
   "metadata": {},
   "source": [
    "### Sorting Dates and sleeping program"
   ]
  },
  {
   "cell_type": "code",
   "execution_count": 11,
   "metadata": {},
   "outputs": [
    {
     "name": "stdout",
     "output_type": "stream",
     "text": [
      "2021-01-08\n",
      "2021-01-09\n",
      "2021-01-10\n"
     ]
    }
   ],
   "source": [
    "from datetime import date\n",
    "import time\n",
    "ldates = []\n",
    "d1 = date(2021,1,10)\n",
    "d2 = date(2021,1,9)\n",
    "d3 = date(2021,1,8)\n",
    "\n",
    "ldates.append(d1)\n",
    "ldates.append(d2)\n",
    "ldates.append(d3)\n",
    "\n",
    "ldates.sort()\n",
    "time.sleep(3) # the program will sleep for 3 seconds before ececuting the next statement\n",
    "for d in ldates:\n",
    "    print(d)"
   ]
  },
  {
   "cell_type": "markdown",
   "metadata": {},
   "source": [
    "### Knowing execution time of the program"
   ]
  },
  {
   "cell_type": "code",
   "execution_count": 16,
   "metadata": {},
   "outputs": [
    {
     "name": "stdout",
     "output_type": "stream",
     "text": [
      "2021-01-08\n",
      "2021-01-09\n",
      "2021-01-10\n",
      "Execution TIme: 0.0015037999996820872\n"
     ]
    }
   ],
   "source": [
    "from datetime import date\n",
    "import time\n",
    "\n",
    "startTime = time.perf_counter()\n",
    "\n",
    "ldates = []\n",
    "d1 = date(2021,1,10)\n",
    "d2 = date(2021,1,9)\n",
    "d3 = date(2021,1,8)\n",
    "\n",
    "ldates.append(d1)\n",
    "ldates.append(d2)\n",
    "ldates.append(d3)\n",
    "\n",
    "ldates.sort()\n",
    "#time.sleep(3)\n",
    "for d in ldates:\n",
    "    print(d)\n",
    "    \n",
    "endtime = time.perf_counter()\n",
    "print(\"Execution TIme:\",endtime-startTime)"
   ]
  },
  {
   "cell_type": "markdown",
   "metadata": {},
   "source": [
    "### Checking Credit Card Validation"
   ]
  },
  {
   "cell_type": "code",
   "execution_count": 22,
   "metadata": {},
   "outputs": [
    {
     "name": "stdout",
     "output_type": "stream",
     "text": [
      "Valid\n",
      "2021-01-10 12:10:21.762106\n",
      "2021-01-10 12:10:21.762107\n"
     ]
    }
   ],
   "source": [
    "from datetime import *\n",
    "\n",
    "def validateCard(expdate):\n",
    "    if expdate > datetime.now().date():\n",
    "        print(\"Valid\")\n",
    "    else:\n",
    "        print(\"Expired\")\n",
    "        \n",
    "validateCard(date(2022,1,10))    \n",
    "print(datetime.now())\n",
    "print(datetime.today())"
   ]
  },
  {
   "cell_type": "code",
   "execution_count": 42,
   "metadata": {},
   "outputs": [
    {
     "name": "stdout",
     "output_type": "stream",
     "text": [
      "Event Starts at 11:10:00 and ends at 02:10:00\n",
      "Delhi Technological University\n",
      "Street:12,City:Delhi,State:Delhi,Country:India,Zipcode:110034\n"
     ]
    }
   ],
   "source": [
    "# Assignment\n",
    "from datetime import *\n",
    "class Address:\n",
    "    def __init__(self,street,city,state,country,zipcode):\n",
    "        self.street = street\n",
    "        self.city = city\n",
    "        self.state = state\n",
    "        self.country = country\n",
    "        self.zipcode = zipcode\n",
    "class Venue:\n",
    "    def __init__(self,name):\n",
    "        self.name = name\n",
    "        self.address = []\n",
    "    def addaddress(self,Address):\n",
    "        self.address.append(Address)\n",
    "    \n",
    "class Event:\n",
    "    def __init__(self,startTime,endTime):\n",
    "        self.startTime = startTime\n",
    "        self.endTime = endTime\n",
    "        self.venue = []\n",
    "    def addvenues(self,venues):\n",
    "        self.venue.append(venues)\n",
    "        \n",
    "a = Address(12,\"Delhi\",\"Delhi\",\"India\",110034)\n",
    "v = Venue(\"Delhi Technological University\")\n",
    "e = Event(time(11,10),time(2,10))\n",
    "\n",
    "v.addaddress(a)\n",
    "e.addvenues(v)\n",
    "\n",
    "print(\"Event Starts at {} and ends at {}\".format(e.startTime,e.endTime))\n",
    "for venue in e.venue:\n",
    "    print(venue.name)\n",
    "    for add in v.address:\n",
    "        print('Street:{},City:{},State:{},Country:{},Zipcode:{}'.format(add.street,add.city,add.state,add.country,add.zipcode))"
   ]
  },
  {
   "cell_type": "markdown",
   "metadata": {},
   "source": [
    "# Networking"
   ]
  },
  {
   "cell_type": "markdown",
   "metadata": {},
   "source": [
    "### Downloading HTML"
   ]
  },
  {
   "cell_type": "code",
   "execution_count": 4,
   "metadata": {},
   "outputs": [],
   "source": [
    "import urllib.request\n",
    "try:\n",
    "    url = urllib.request.urlopen(\"https://www.python.org/\")\n",
    "    content = url.read()\n",
    "    url.close()\n",
    "except urllib.error.HTTPError:\n",
    "    print(\"The web page is not found\")\n",
    "    exit()\n",
    "\n",
    "f = open('python.html','wb')\n",
    "f.write(content)\n",
    "f.close()"
   ]
  },
  {
   "cell_type": "markdown",
   "metadata": {},
   "source": [
    "### Downloading an Image"
   ]
  },
  {
   "cell_type": "code",
   "execution_count": 6,
   "metadata": {},
   "outputs": [
    {
     "data": {
      "text/plain": [
       "('python.png', <http.client.HTTPMessage at 0x206fc12e670>)"
      ]
     },
     "execution_count": 6,
     "metadata": {},
     "output_type": "execute_result"
    }
   ],
   "source": [
    "import urllib.request\n",
    "url = 'https://www.python.org/static/img/python-logo.png'\n",
    "urllib.request.urlretrieve(url, 'python.png')"
   ]
  },
  {
   "cell_type": "code",
   "execution_count": null,
   "metadata": {},
   "outputs": [],
   "source": []
  },
  {
   "cell_type": "code",
   "execution_count": null,
   "metadata": {},
   "outputs": [],
   "source": []
  },
  {
   "cell_type": "code",
   "execution_count": null,
   "metadata": {},
   "outputs": [],
   "source": []
  },
  {
   "cell_type": "code",
   "execution_count": null,
   "metadata": {},
   "outputs": [],
   "source": []
  },
  {
   "cell_type": "code",
   "execution_count": null,
   "metadata": {},
   "outputs": [],
   "source": []
  },
  {
   "cell_type": "markdown",
   "metadata": {},
   "source": [
    "# Numpy"
   ]
  },
  {
   "cell_type": "code",
   "execution_count": 4,
   "metadata": {},
   "outputs": [
    {
     "name": "stdout",
     "output_type": "stream",
     "text": [
      "[1 2 3 4 5]\n",
      "['a' 'b' 'c' 'd' 'e']\n",
      "['Python' 'Data Manipulation' 'Data Visualisation']\n"
     ]
    }
   ],
   "source": [
    "import numpy as np\n",
    "# Creating Array\n",
    "# An array can have variables of single datatype only\n",
    "a = np.array([1,2,3,4,5])\n",
    "b = np.array(['a','b','c','d','e'])\n",
    "c = np.array(['Python','Data Manipulation','Data Visualisation'])\n",
    "print(a)\n",
    "print(b)\n",
    "print(c)"
   ]
  },
  {
   "cell_type": "markdown",
   "metadata": {},
   "source": [
    "### linspace()/logspace()/zeros()/ones()"
   ]
  },
  {
   "cell_type": "code",
   "execution_count": 13,
   "metadata": {},
   "outputs": [
    {
     "name": "stdout",
     "output_type": "stream",
     "text": [
      "[  1.  12.  23.  34.  45.  56.  67.  78.  89. 100.]\n",
      "[1.00000000e+01 1.29154967e+03 1.66810054e+05 2.15443469e+07\n",
      " 2.78255940e+09 3.59381366e+11 4.64158883e+13 5.99484250e+15\n",
      " 7.74263683e+17 1.00000000e+20]\n",
      "[1 2 3 4 5 6 7 8]\n",
      "[0. 0. 0. 0. 0. 0. 0. 0. 0. 0.]\n",
      "[1. 1. 1. 1. 1. 1. 1. 1. 1. 1.]\n"
     ]
    }
   ],
   "source": [
    "import numpy as np\n",
    "print(np.linspace(1,100,10))  # Gives equally spaced 10 numbers in a range\n",
    "print(np.logspace(1,20,num = 10)) #Gives 10 logarithmic numbers\n",
    "print(np.arange(1,9)) # range() function in array\n",
    "print(np.zeros(10)) # array containing 0s\n",
    "print(np.ones(10)) # array containing 1s"
   ]
  },
  {
   "cell_type": "markdown",
   "metadata": {},
   "source": [
    "### Basic Maths Function"
   ]
  },
  {
   "cell_type": "code",
   "execution_count": 19,
   "metadata": {},
   "outputs": [
    {
     "name": "stdout",
     "output_type": "stream",
     "text": [
      "[0.         0.69314718 1.09861229 1.38629436 1.60943791 1.79175947\n",
      " 1.94591015 2.07944154 2.19722458]\n",
      "45\n",
      "5.0\n",
      "1\n",
      "[12 14 16 18 20 22 24 26 28]\n"
     ]
    }
   ],
   "source": [
    "import numpy as np\n",
    "a = np.arange(1,10)\n",
    "b = np.arange(11,20)\n",
    "print(np.log(a))\n",
    "print(np.sum(a))\n",
    "print(np.mean(a))\n",
    "print(np.min(a))\n",
    "print(a+b) #Summation of elements of the array"
   ]
  },
  {
   "cell_type": "markdown",
   "metadata": {},
   "source": [
    "### Array Comparison"
   ]
  },
  {
   "cell_type": "code",
   "execution_count": 29,
   "metadata": {},
   "outputs": [
    {
     "name": "stdout",
     "output_type": "stream",
     "text": [
      "[False False False False  True]\n",
      "[ True  True  True  True False]\n",
      "True\n",
      "False\n"
     ]
    }
   ],
   "source": [
    "from numpy import *\n",
    "a1 = array([10,30,50,70,100])\n",
    "a2 = array([20,40,60,80,100])\n",
    "print(a1 >= a2)\n",
    "print(a2 > a1)\n",
    "print(any(a1 >= a2)) # Return 'True' if anyone element of a1 is equal to a2\n",
    "print(all(a1 >= a2))# Return 'True' if all element of a1 is equal to a2\n"
   ]
  },
  {
   "cell_type": "code",
   "execution_count": 35,
   "metadata": {},
   "outputs": [
    {
     "name": "stdout",
     "output_type": "stream",
     "text": [
      "[False False  True  True False False]\n",
      "[1 0 3 0 5 0]\n",
      "[1 1 3 6 5 8]\n"
     ]
    }
   ],
   "source": [
    "from numpy import *\n",
    "a1 = array([1,2,3,4,5,6])\n",
    "a2 = array([2,1,1,6,7,8])\n",
    "\n",
    "print(logical_and(a1>2,a1<5)) # logical operators in numpy arrays\n",
    "print(where(a1%2!=0,a1,0)) # if number is odd then return elements of a1 else 0\n",
    "# where() can also be used with multiple arrays\n",
    "print(where(a1%2!=0,a1,a2))"
   ]
  },
  {
   "cell_type": "code",
   "execution_count": 41,
   "metadata": {},
   "outputs": [
    {
     "name": "stdout",
     "output_type": "stream",
     "text": [
      "a1 [1 2 3 4 5 6 7 8 9]\n",
      "a2 [1 2 3 4 5 6 7 8 9]\n",
      "a3 [1 2 3 4 5 6 7 8 9]\n",
      "After modification of a3\n",
      "a1 [1 2 3 4 5 6 7 8 9]\n",
      "a3 [ 1  2  3 20  5  6  7  8  9]\n",
      "After modification of a2\n",
      "a1 [ 1  2  3 40  5  6  7  8  9]\n",
      "a2 [ 1  2  3 40  5  6  7  8  9]\n"
     ]
    }
   ],
   "source": [
    "from numpy import *\n",
    "\n",
    "a1 = arange(1,10)\n",
    "a2 = a1.view()\n",
    "a3 = a1.copy()\n",
    "print('a1',a1)\n",
    "print('a2',a2)\n",
    "print('a3',a3)\n",
    "print(\"After modification of a3\")\n",
    "a3[3] = 20 # Deep copy\n",
    "print('a1',a1)\n",
    "print('a3',a3) # change in element has no effect on original array\n",
    "print('After modification of a2')\n",
    "a2[3] = 40 # Shallow Copy\n",
    "print('a1',a1)\n",
    "print('a2',a2) # change in element of a2 has effect on original array"
   ]
  },
  {
   "cell_type": "markdown",
   "metadata": {},
   "source": [
    "### Slicing Array"
   ]
  },
  {
   "cell_type": "code",
   "execution_count": 44,
   "metadata": {},
   "outputs": [
    {
     "name": "stdout",
     "output_type": "stream",
     "text": [
      "[ 3  4  5  6  7  8  9 10 11]\n",
      "[4 5 6 7]\n",
      "[ 3  5  7  9 11]\n"
     ]
    }
   ],
   "source": [
    "from numpy import *\n",
    "a1 = arange(3,12)\n",
    "print(a1)\n",
    "print(a1[1:5])\n",
    "print(a1[::2])"
   ]
  },
  {
   "cell_type": "markdown",
   "metadata": {},
   "source": [
    "### Multidimensional Array"
   ]
  },
  {
   "cell_type": "code",
   "execution_count": 58,
   "metadata": {},
   "outputs": [
    {
     "name": "stdout",
     "output_type": "stream",
     "text": [
      "[[1 2 3]\n",
      " [4 5 6]]\n",
      "[1 2 3 4 5 6]\n",
      "\n",
      " (2, 3)\n",
      "(6,)\n",
      "[[1 2]\n",
      " [3 4]\n",
      " [5 6]]\n",
      "\n",
      "\n",
      "int32\n",
      "int32\n",
      "\n",
      "\n",
      "[1 2 3 4 5 6]\n",
      "[[1. 0. 0.]\n",
      " [0. 1. 0.]\n",
      " [0. 0. 1.]]\n",
      "[[1 1 1]\n",
      " [1 1 1]]\n"
     ]
    }
   ],
   "source": [
    "a2 = array([[1,2,3],[4,5,6]])\n",
    "a1 = array([1,2,3,4,5,6])\n",
    "print(a2)\n",
    "print(a1)\n",
    "print('\\n',a2.shape) \n",
    "print(a1.shape)\n",
    "print(a2.reshape(3,2))\n",
    "print('\\n')\n",
    "print(a1.dtype) # to know the datatype of the array\n",
    "print(a2.dtype)\n",
    "print('\\n')\n",
    "print(a2.flatten()) #Converts multi-dimensional array into 1-D\n",
    "print(eye(3)) # for unit matrix of 3 X 3\n",
    "print(ones((2,3),int)) # int datatype\n"
   ]
  },
  {
   "cell_type": "code",
   "execution_count": null,
   "metadata": {},
   "outputs": [],
   "source": []
  }
 ],
 "metadata": {
  "kernelspec": {
   "display_name": "Python 3",
   "language": "python",
   "name": "python3"
  },
  "language_info": {
   "codemirror_mode": {
    "name": "ipython",
    "version": 3
   },
   "file_extension": ".py",
   "mimetype": "text/x-python",
   "name": "python",
   "nbconvert_exporter": "python",
   "pygments_lexer": "ipython3",
   "version": "3.8.5"
  }
 },
 "nbformat": 4,
 "nbformat_minor": 4
}
